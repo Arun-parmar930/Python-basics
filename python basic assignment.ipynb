{
 "cells": [
  {
   "cell_type": "markdown",
   "metadata": {},
   "source": [
    "1. What is Python, and why is it popular?\n",
    "    - Python is a high-level, interpreted programming language known for its simplicity and readability. It is popular due to its versatility, vast libraries, and strong community support."
   ]
  },
  {
   "cell_type": "markdown",
   "metadata": {},
   "source": [
    "2. What is an interpreter in Python?\n",
    "    - An interpreter in Python is a program that executes code line by line, converting it into machine-readable instructions."
   ]
  },
  {
   "cell_type": "markdown",
   "metadata": {},
   "source": [
    "3. What are pre-defined keywords in Python?\n",
    "    - Pre-defined keywords in Python are reserved words that have special meanings and cannot be used as identifiers (variable names). Examples include if, else, while, for, def, class, import, and return.\n",
    "\n",
    "\n",
    "\n",
    "\n",
    "\n",
    "\n",
    "\n"
   ]
  },
  {
   "cell_type": "markdown",
   "metadata": {},
   "source": [
    "4. Can keywords be used as variable names ?\n",
    "    - No, keywords cannot be used as variable names in Python because they are reserved for specific functions and syntax in the language."
   ]
  },
  {
   "cell_type": "markdown",
   "metadata": {},
   "source": [
    "5. What is mutability in Python?\n",
    "    - Mutability in Python refers to whether an object’s value can be changed after creation.lists, dictionaries are mutable in python"
   ]
  },
  {
   "cell_type": "markdown",
   "metadata": {},
   "source": [
    "6. Why are lists mutable, but tuples are immutable?\n",
    "    - Lists are mutable because they allow modifications or changing elements after creation. Tuples are immutable to ensure data integrity and improve performance by preventing unintended modifications."
   ]
  },
  {
   "cell_type": "markdown",
   "metadata": {},
   "source": [
    "7. What is the difference between “==” and “is” operators in Python?\n",
    "    - \"==\" operator checks if two values are equal, while \"is\" checks if two objects refer to the same memory location.\n"
   ]
  },
  {
   "cell_type": "markdown",
   "metadata": {},
   "source": [
    "8. What are logical operators in Python?\n",
    "    - Logical operators in Python are used to combine conditional statements. The three main logical operators are:\n",
    "        - and – Returns True if both conditions are true.\n",
    "        - or – Returns True if at least one condition is true.\n",
    "        - not – Reverses the boolean value of a condition.\n"
   ]
  },
  {
   "cell_type": "markdown",
   "metadata": {},
   "source": [
    "9. What is type casting in Python? \n",
    "    - Type casting in Python is the process of converting one data type into another. It can be done using built-in functions like int(), float(), str(), and list() and it can be implicit and explicit."
   ]
  },
  {
   "cell_type": "markdown",
   "metadata": {},
   "source": [
    "10. What is the difference between implicit and explicit type casting \n",
    "    - Implicit Type Casting: Performed automatically by Python when converting smaller data types to larger ones to avoid data loss.\n",
    "    - Explicit Type Casting: Manually converting one data type to another using functions like int(), float(), or str()"
   ]
  },
  {
   "cell_type": "markdown",
   "metadata": {},
   "source": [
    "11. What is the purpose of conditional statements in Python?\n",
    "    - Conditional statements in Python control the flow of a program by executing specific blocks of code based on given conditions. They allow decision-making using if, elif, and else."
   ]
  },
  {
   "cell_type": "markdown",
   "metadata": {},
   "source": [
    "12. How does the elif statement work?\n",
    "    - The elif statement in Python is used to check multiple conditions sequentially. If the if condition is False, the program checks the elif condition(s). If an elif condition is True, its block executes, and the rest are skipped."
   ]
  },
  {
   "cell_type": "markdown",
   "metadata": {},
   "source": [
    "13. What is the difference between for and while loops?\n",
    "    - for loop: Used when the number of iterations is known. It iterates over a sequence (like a list, tuple, or range).\n",
    "    - while loop: Used when the number of iterations is unknown and depends on a condition. It runs until the condition becomes False.\n",
    "\n"
   ]
  },
  {
   "cell_type": "markdown",
   "metadata": {},
   "source": [
    "14. Describe a scenario where a while loop is more suitable than a for loop.\n",
    "    - A while loop is more suitable when the number of iterations is unknown and depends on a condition being met."
   ]
  },
  {
   "cell_type": "markdown",
   "metadata": {},
   "source": [
    "# Practical Question\n"
   ]
  },
  {
   "cell_type": "code",
   "execution_count": 1,
   "metadata": {},
   "outputs": [
    {
     "name": "stdout",
     "output_type": "stream",
     "text": [
      "Hello, World!\n"
     ]
    }
   ],
   "source": [
    "#1. Write a Python program to print \"Hello, World!\n",
    "print(\"Hello, World!\")"
   ]
  },
  {
   "cell_type": "code",
   "execution_count": 2,
   "metadata": {},
   "outputs": [
    {
     "name": "stdout",
     "output_type": "stream",
     "text": [
      "My name is Arun and my age is 20\n"
     ]
    }
   ],
   "source": [
    "#2. Write a Python program that displays your name and age\n",
    "name = \"Arun\"\n",
    "age = 20\n",
    "print(\"My name is\",name,\"and my age is\",age)\n"
   ]
  },
  {
   "cell_type": "code",
   "execution_count": 3,
   "metadata": {},
   "outputs": [
    {
     "name": "stdout",
     "output_type": "stream",
     "text": [
      "['False', 'None', 'True', 'and', 'as', 'assert', 'async', 'await', 'break', 'class', 'continue', 'def', 'del', 'elif', 'else', 'except', 'finally', 'for', 'from', 'global', 'if', 'import', 'in', 'is', 'lambda', 'nonlocal', 'not', 'or', 'pass', 'raise', 'return', 'try', 'while', 'with', 'yield']\n"
     ]
    }
   ],
   "source": [
    "#3. Write code to print all the pre-defined keywords in Python using the keyword library\n",
    "import keyword\n",
    "print(keyword.kwlist)"
   ]
  },
  {
   "cell_type": "code",
   "execution_count": 4,
   "metadata": {},
   "outputs": [
    {
     "name": "stdout",
     "output_type": "stream",
     "text": [
      "'for' is a Python keyword.\n"
     ]
    }
   ],
   "source": [
    "#4.Write a program that checks if a given word is a Python keyword.\n",
    "import keyword\n",
    "word = input(\"Enter a word: \")\n",
    "\n",
    "if keyword.iskeyword(word):\n",
    "    print(f\"'{word}' is a Python keyword.\")\n",
    "else:\n",
    "    print(f\"'{word}' is NOT a Python keyword.\")\n"
   ]
  },
  {
   "cell_type": "code",
   "execution_count": 2,
   "metadata": {},
   "outputs": [
    {
     "name": "stdout",
     "output_type": "stream",
     "text": [
      "List [2, 3, 4, 'ram', True]\n",
      "Updated list [5, 3, 4, 'ram', True]\n",
      "Tuple (1, 2, 4, 6, False)\n"
     ]
    },
    {
     "ename": "TypeError",
     "evalue": "'tuple' object does not support item assignment",
     "output_type": "error",
     "traceback": [
      "\u001b[1;31m---------------------------------------------------------------------------\u001b[0m",
      "\u001b[1;31mTypeError\u001b[0m                                 Traceback (most recent call last)",
      "Cell \u001b[1;32mIn[2], line 8\u001b[0m\n\u001b[0;32m      6\u001b[0m \u001b[38;5;28mprint\u001b[39m(\u001b[38;5;124m\"\u001b[39m\u001b[38;5;124mUpdated list\u001b[39m\u001b[38;5;124m\"\u001b[39m,lst)\n\u001b[0;32m      7\u001b[0m \u001b[38;5;28mprint\u001b[39m(\u001b[38;5;124m\"\u001b[39m\u001b[38;5;124mTuple\u001b[39m\u001b[38;5;124m\"\u001b[39m,t)\n\u001b[1;32m----> 8\u001b[0m t[\u001b[38;5;241m0\u001b[39m] \u001b[38;5;241m=\u001b[39m \u001b[38;5;241m5\u001b[39m\n\u001b[0;32m      9\u001b[0m \u001b[38;5;28mprint\u001b[39m(\u001b[38;5;124m\"\u001b[39m\u001b[38;5;124mUpdated tuple\u001b[39m\u001b[38;5;124m\"\u001b[39m,t)\n",
      "\u001b[1;31mTypeError\u001b[0m: 'tuple' object does not support item assignment"
     ]
    }
   ],
   "source": [
    "#5. Create a list and tuple in Python, and demonstrate how attempting to change an element works differently for each\n",
    "lst = [2,3,4,\"ram\",True]\n",
    "t = (1,2,4,6,False)\n",
    "print(\"List\",lst)\n",
    "lst[0] = 5\n",
    "print(\"Updated list\",lst)\n",
    "print(\"Tuple\",t)\n",
    "t[0] = 5\n",
    "print(\"Updated tuple\",t)\n"
   ]
  },
  {
   "cell_type": "code",
   "execution_count": 9,
   "metadata": {},
   "outputs": [
    {
     "name": "stdout",
     "output_type": "stream",
     "text": [
      "before calling function\n",
      "list : [2, 5, 'name', 'obj', 99]\n",
      "string : hello\n",
      "after calling function\n",
      "list : [2, 5, 'name', 'obj', 99, 10]\n",
      "string : hello\n"
     ]
    }
   ],
   "source": [
    " #6. Write a function to demonstrate the behavior of mutable and immutable arguments.\n",
    "\n",
    "def modify_list(l):   #list is mutable argument\n",
    "    l.append(10)\n",
    "\n",
    "def modify_string(s):     #string is immutable argument\n",
    "    s = s+\"world\"\n",
    "\n",
    "l = [2, 5, \"name\", \"obj\",99]\n",
    "s = \"hello\"\n",
    "print(\"before calling function\")\n",
    "print(\"list :\",l)\n",
    "print(\"string :\",s)\n",
    "modify_list(l)\n",
    "modify_string(s)\n",
    "print(\"after calling function\")\n",
    "print(\"list :\",l)\n",
    "print(\"string :\",s)"
   ]
  },
  {
   "cell_type": "code",
   "execution_count": 14,
   "metadata": {},
   "outputs": [
    {
     "name": "stdout",
     "output_type": "stream",
     "text": [
      "The addition of 4 and 2 is 6\n",
      "The difference of 4 and 2 is 2\n",
      "The multiply of 4 and 2 is 8\n",
      "4 divide by 2 is 2.0\n"
     ]
    }
   ],
   "source": [
    "#7. Write a program that performs basic arithmetic operations on two user-input numbers.\n",
    "a = int(input(\"Input 1 :\"))\n",
    "b = int(input(\"Input 2 :\"))\n",
    "print(f\"The addition of {a} and {b} is {a+b}\")\n",
    "print(f\"The difference of {a} and {b} is {a-b}\")\n",
    "print(f\"The multiply of {a} and {b} is {a*b}\")\n",
    "print(f\"{a} divide by {b} is {a/b}\")\n"
   ]
  },
  {
   "cell_type": "code",
   "execution_count": 15,
   "metadata": {},
   "outputs": [
    {
     "name": "stdout",
     "output_type": "stream",
     "text": [
      "Logical AND:\n",
      "Both numbers are positive: True\n",
      "Logical OR:\n",
      "At least one number is positive: True\n",
      "Logical NOT:\n",
      "a is not positive: False\n",
      "b is not positive: False\n"
     ]
    }
   ],
   "source": [
    " #8. Write a program to demonstrate the use of logical operators.\n",
    "a = int(input(\"Enter first number: \"))\n",
    "b = int(input(\"Enter second number: \"))\n",
    "print(\"Logical AND:\")\n",
    "print(f\"Both numbers are positive: {a > 0 and b > 0}\")\n",
    "\n",
    "# Using 'or' operator\n",
    "print(\"Logical OR:\")\n",
    "print(f\"At least one number is positive: {a > 0 or b > 0}\")\n",
    "\n",
    "# Using 'not' operator\n",
    "print(\"Logical NOT:\")\n",
    "print(f\"a is not positive: {not (a > 0)}\")\n",
    "print(f\"b is not positive: {not (b > 0)}\")\n"
   ]
  },
  {
   "cell_type": "code",
   "execution_count": 20,
   "metadata": {},
   "outputs": [
    {
     "name": "stdout",
     "output_type": "stream",
     "text": [
      "data type and value of a is :  <class 'str'> \t  4\n",
      "data type and value of a is :  <class 'int'> \t 4\n",
      "data type and value of a is : <class 'float'> \t 4.0\n",
      "data type and value of a is : <class 'bool'> \t True\n"
     ]
    }
   ],
   "source": [
    " #9. Write a Python program to convert user input from string to integer, float, and boolean types.\n",
    "a = input(\"Enter any Number\")\n",
    "print(f\"data type and value of a is :  {type(a)} \\t  {a}\")\n",
    "a = int(a)\n",
    "print(f\"data type and value of a is :  {type(a)} \\t {a}\")\n",
    "a = float(a)\n",
    "print(f\"data type and value of a is : {type(a)} \\t {a}\")\n",
    "a = bool(a)\n",
    "print(f\"data type and value of a is : {type(a)} \\t {a}\")"
   ]
  },
  {
   "cell_type": "code",
   "execution_count": null,
   "metadata": {},
   "outputs": [
    {
     "name": "stdout",
     "output_type": "stream",
     "text": [
      "List after converting to floats: [0.0, 10.0, 20.0, 30.0, 40.0, 50.0]\n",
      "List after converting back to strings: ['0', '10', '20', '30', '40', '50']\n",
      "List after converting to integers: [0, 10, 20, 30, 40, 50]\n",
      "List after converting to booleans: [False, True, True, True, True, True]\n"
     ]
    }
   ],
   "source": [
    "# 10. Write code to demonstrate type casting with list elements.\n",
    "lst = [0, 10, \"20\", \"30\", 40, \"50\"]\n",
    "\n",
    "lst_1 = [float(num) for num in lst]\n",
    "print(\"List after converting to floats:\", lst_1)\n",
    "\n",
    "lst_2 = [str(num) for num in lst]\n",
    "print(\"List after converting back to strings:\", lst_2)\n",
    "\n",
    "lst_3 = [int(num) for num in lst]\n",
    "print(\"List after converting to integers:\", lst_3)\n",
    "\n",
    "lst_4 = [bool(num) for num in lst] \n",
    "print(\"List after converting to booleans:\", lst_4)\n"
   ]
  },
  {
   "cell_type": "code",
   "execution_count": 31,
   "metadata": {},
   "outputs": [
    {
     "name": "stdout",
     "output_type": "stream",
     "text": [
      "the number is positive\n"
     ]
    }
   ],
   "source": [
    " #11. Write a program that checks if a number is positive, negative, or zero.\n",
    "num = 90\n",
    "if num>0:\n",
    "    print('the number is positive')\n",
    "elif num<0:\n",
    "    print('the number is negative')\n",
    "else :\n",
    "    print('the number is Zero')"
   ]
  },
  {
   "cell_type": "code",
   "execution_count": 32,
   "metadata": {},
   "outputs": [
    {
     "name": "stdout",
     "output_type": "stream",
     "text": [
      "1 2 3 4 5 6 7 8 9 10 "
     ]
    }
   ],
   "source": [
    "#12. Write a for loop to print numbers from 1 to 10.\n",
    "for i in range(1,11):\n",
    "    print(i, end = \" \")"
   ]
  },
  {
   "cell_type": "code",
   "execution_count": 35,
   "metadata": {},
   "outputs": [
    {
     "name": "stdout",
     "output_type": "stream",
     "text": [
      "sum of the even numbers is 650\n"
     ]
    }
   ],
   "source": [
    "#13. Write a Python program to find the sum of all even numbers between 1 and 50.\n",
    "sum = 0\n",
    "for i in range(2,51,2):\n",
    "    sum = sum+i\n",
    "\n",
    "print(\"sum of the even numbers is\",sum)"
   ]
  },
  {
   "cell_type": "code",
   "execution_count": 39,
   "metadata": {},
   "outputs": [
    {
     "name": "stdout",
     "output_type": "stream",
     "text": [
      "gnimmargorp nohtyP"
     ]
    }
   ],
   "source": [
    "# 14. Write a program to reverse a string using a while loop.\n",
    "s = \"Python programming\"\n",
    "n = len(s) - 1\n",
    "while n>=0:\n",
    "    print(s[n] , end = \"\")\n",
    "    n -=1\n"
   ]
  },
  {
   "cell_type": "code",
   "execution_count": 42,
   "metadata": {},
   "outputs": [
    {
     "name": "stdout",
     "output_type": "stream",
     "text": [
      "factorial of 5 is 120\n"
     ]
    }
   ],
   "source": [
    " #15. Write a Python program to calculate the factorial of a number provided by the user using a while loop.\n",
    "\n",
    "n = int(input(\"Enter the number :\"))\n",
    "ans = 1\n",
    "i = n\n",
    "while i>1:\n",
    "    ans = ans*i\n",
    "    i -= 1\n",
    "print(f\"factorial of {n} is {ans}\")"
   ]
  }
 ],
 "metadata": {
  "kernelspec": {
   "display_name": "base",
   "language": "python",
   "name": "python3"
  },
  "language_info": {
   "codemirror_mode": {
    "name": "ipython",
    "version": 3
   },
   "file_extension": ".py",
   "mimetype": "text/x-python",
   "name": "python",
   "nbconvert_exporter": "python",
   "pygments_lexer": "ipython3",
   "version": "3.12.7"
  }
 },
 "nbformat": 4,
 "nbformat_minor": 2
}
